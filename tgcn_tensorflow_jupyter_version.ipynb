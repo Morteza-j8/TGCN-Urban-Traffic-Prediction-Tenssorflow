{
 "cells": [
  {
   "cell_type": "markdown",
   "metadata": {},
   "source": [
    "# Install special Version of tensorflow for using this code \n",
    "\n",
    "---\n",
    "\n",
    "If you have installed other version of tensorflow uncomment the following cell \n",
    "this code using tensorflow==1.13.2"
   ]
  },
  {
   "cell_type": "code",
   "execution_count": null,
   "metadata": {
    "colab": {
     "base_uri": "https://localhost:8080/"
    },
    "executionInfo": {
     "elapsed": 2696,
     "status": "ok",
     "timestamp": 1635793740179,
     "user": {
      "displayName": "Morteza Jalambadani",
      "photoUrl": "https://lh3.googleusercontent.com/a-/AOh14Gik5LZldmyTOKvf1yNyb5Tcx_HN1qDg-JzdS2AF=s64",
      "userId": "18071915660234170019"
     },
     "user_tz": -210
    },
    "id": "Isb1mhrj5Xp3",
    "outputId": "9476d668-f8ab-465c-be65-dfdbd4d821b7"
   },
   "outputs": [],
   "source": [
    "#!pip uninstall tensorflow -y\n",
    "#!pip install tensorflow==1.13.2"
   ]
  },
  {
   "cell_type": "code",
   "execution_count": null,
   "metadata": {
    "executionInfo": {
     "elapsed": 17,
     "status": "ok",
     "timestamp": 1635793753487,
     "user": {
      "displayName": "Morteza Jalambadani",
      "photoUrl": "https://lh3.googleusercontent.com/a-/AOh14Gik5LZldmyTOKvf1yNyb5Tcx_HN1qDg-JzdS2AF=s64",
      "userId": "18071915660234170019"
     },
     "user_tz": -210
    },
    "id": "24_kSx3n5-Rr"
   },
   "outputs": [],
   "source": [
    "path = './'"
   ]
  },
  {
   "cell_type": "code",
   "execution_count": null,
   "metadata": {
    "colab": {
     "base_uri": "https://localhost:8080/"
    },
    "executionInfo": {
     "elapsed": 1168,
     "status": "ok",
     "timestamp": 1635793754642,
     "user": {
      "displayName": "Morteza Jalambadani",
      "photoUrl": "https://lh3.googleusercontent.com/a-/AOh14Gik5LZldmyTOKvf1yNyb5Tcx_HN1qDg-JzdS2AF=s64",
      "userId": "18071915660234170019"
     },
     "user_tz": -210
    },
    "id": "Ct7KXbT66YPh",
    "outputId": "ba59a2f7-1ac3-49f6-94c9-e009d2352dd0"
   },
   "outputs": [],
   "source": [
    "import tensorflow as tf\n",
    "\n",
    "print(tf.version.VERSION)"
   ]
  },
  {
   "cell_type": "code",
   "execution_count": null,
   "metadata": {},
   "outputs": [],
   "source": [
    "# if using google drive run the following cell (uncomment first)"
   ]
  },
  {
   "cell_type": "code",
   "execution_count": null,
   "metadata": {
    "colab": {
     "base_uri": "https://localhost:8080/"
    },
    "executionInfo": {
     "elapsed": 17,
     "status": "ok",
     "timestamp": 1635793754645,
     "user": {
      "displayName": "Morteza Jalambadani",
      "photoUrl": "https://lh3.googleusercontent.com/a-/AOh14Gik5LZldmyTOKvf1yNyb5Tcx_HN1qDg-JzdS2AF=s64",
      "userId": "18071915660234170019"
     },
     "user_tz": -210
    },
    "id": "U_QCg_2uYxeT",
    "outputId": "9298ac36-44e2-4cf3-9e53-e369f24427f7"
   },
   "outputs": [],
   "source": [
    "#from google.colab import drive\n",
    "#drive.mount('/content/drive')"
   ]
  },
  {
   "cell_type": "code",
   "execution_count": null,
   "metadata": {
    "executionInfo": {
     "elapsed": 1790,
     "status": "ok",
     "timestamp": 1635793756426,
     "user": {
      "displayName": "Morteza Jalambadani",
      "photoUrl": "https://lh3.googleusercontent.com/a-/AOh14Gik5LZldmyTOKvf1yNyb5Tcx_HN1qDg-JzdS2AF=s64",
      "userId": "18071915660234170019"
     },
     "user_tz": -210
    },
    "id": "TE4XP78B44xq"
   },
   "outputs": [],
   "source": [
    "# -*- coding: utf-8 -*-\n",
    "import pickle as pkl\n",
    "import tensorflow as tf\n",
    "import pandas as pd\n",
    "import numpy as np\n",
    "import math\n",
    "import os\n",
    "import numpy.linalg as la\n",
    "\n",
    "\n",
    "from sklearn.metrics import mean_squared_error,mean_absolute_error\n",
    "#import matplotlib.pyplot as plt\n",
    "import time\n",
    "\n",
    "import tensorflow as tf\n",
    "from tensorflow.contrib.rnn import RNNCell\n",
    "\n",
    "import scipy.sparse as sp\n",
    "\n",
    "import matplotlib.pyplot as plt\n"
   ]
  },
  {
   "cell_type": "code",
   "execution_count": null,
   "metadata": {
    "executionInfo": {
     "elapsed": 19,
     "status": "ok",
     "timestamp": 1635793756428,
     "user": {
      "displayName": "Morteza Jalambadani",
      "photoUrl": "https://lh3.googleusercontent.com/a-/AOh14Gik5LZldmyTOKvf1yNyb5Tcx_HN1qDg-JzdS2AF=s64",
      "userId": "18071915660234170019"
     },
     "user_tz": -210
    },
    "id": "A3FtTZbc4-8T"
   },
   "outputs": [],
   "source": [
    "\n",
    "########## visualization.py\n",
    "\n",
    "def plot_result(test_result,test_label1,path):\n",
    "    ##all test result visualization\n",
    "    fig1 = plt.figure(figsize=(7,1.5))\n",
    "#    ax1 = fig1.add_subplot(1,1,1)\n",
    "    a_pred = test_result[:,0]\n",
    "    a_true = test_label1[:,0]\n",
    "    plt.plot(a_pred,'r-',label='prediction')\n",
    "    plt.plot(a_true,'b-',label='true')\n",
    "    plt.legend(loc='best',fontsize=10)\n",
    "    plt.savefig(path+'/test_all.jpg')\n",
    "    plt.show()\n",
    "    ## oneday test result visualization\n",
    "    fig1 = plt.figure(figsize=(7,1.5))\n",
    "#    ax1 = fig1.add_subplot(1,1,1)\n",
    "    a_pred = test_result[0:96,0]\n",
    "    a_true = test_label1[0:96,0]\n",
    "    plt.plot(a_pred,'r-',label=\"prediction\")\n",
    "    plt.plot(a_true,'b-',label=\"true\")\n",
    "    plt.legend(loc='best',fontsize=10)\n",
    "    plt.savefig(path+'/test_oneday.jpg')\n",
    "    plt.show()\n",
    "    \n",
    "def plot_error(train_rmse,train_loss,test_rmse,test_acc,test_mae,path):\n",
    "    ###train_rmse & test_rmse \n",
    "    fig1 = plt.figure(figsize=(5,3))\n",
    "    plt.plot(train_rmse, 'r-', label=\"train_rmse\")\n",
    "    plt.plot(test_rmse, 'b-', label=\"test_rmse\")\n",
    "    plt.legend(loc='best',fontsize=10)\n",
    "    plt.savefig(path+'/rmse.jpg')\n",
    "    plt.show()\n",
    "    #### train_loss & train_rmse\n",
    "    fig1 = plt.figure(figsize=(5,3))\n",
    "    plt.plot(train_loss,'b-', label='train_loss')\n",
    "    plt.legend(loc='best',fontsize=10)\n",
    "    plt.savefig(path+'/train_loss.jpg')\n",
    "    plt.show()\n",
    "\n",
    "    fig1 = plt.figure(figsize=(5,3))\n",
    "    plt.plot(train_rmse,'b-', label='train_rmse')\n",
    "    plt.legend(loc='best',fontsize=10)\n",
    "    plt.savefig(path+'/train_rmse.jpg')\n",
    "    plt.show()\n",
    "\n",
    "    ### accuracy\n",
    "    fig1 = plt.figure(figsize=(5,3))\n",
    "    plt.plot(test_acc, 'b-', label=\"test_acc\")\n",
    "    plt.legend(loc='best',fontsize=10)\n",
    "    plt.savefig(path+'/test_acc.jpg')\n",
    "    plt.show()\n",
    "    ### rmse\n",
    "    fig1 = plt.figure(figsize=(5,3))\n",
    "    plt.plot(test_rmse, 'b-', label=\"test_rmse\")\n",
    "    plt.legend(loc='best',fontsize=10)\n",
    "    plt.savefig(path+'/test_rmse.jpg')\n",
    "    plt.show()\n",
    "    ### mae\n",
    "    fig1 = plt.figure(figsize=(5,3))\n",
    "    plt.plot(test_mae, 'b-', label=\"test_mae\")\n",
    "    plt.legend(loc='best',fontsize=10)\n",
    "    plt.savefig(path+'/test_mae.jpg')\n",
    "    plt.show()\n",
    "\n",
    "\n",
    "\n",
    "########## END visualization.py\n"
   ]
  },
  {
   "cell_type": "code",
   "execution_count": null,
   "metadata": {
    "executionInfo": {
     "elapsed": 19,
     "status": "ok",
     "timestamp": 1635793756430,
     "user": {
      "displayName": "Morteza Jalambadani",
      "photoUrl": "https://lh3.googleusercontent.com/a-/AOh14Gik5LZldmyTOKvf1yNyb5Tcx_HN1qDg-JzdS2AF=s64",
      "userId": "18071915660234170019"
     },
     "user_tz": -210
    },
    "id": "gZJG4PxZ4_Gc"
   },
   "outputs": [],
   "source": [
    "\n",
    "########## utils.py\n",
    "\n",
    "\n",
    "def normalized_adj(adj):\n",
    "    adj = sp.coo_matrix(adj)\n",
    "    rowsum = np.array(adj.sum(1))\n",
    "    d_inv_sqrt = np.power(rowsum, -0.5).flatten()\n",
    "    d_inv_sqrt[np.isinf(d_inv_sqrt)] = 0.\n",
    "    d_mat_inv_sqrt = sp.diags(d_inv_sqrt)\n",
    "    normalized_adj = adj.dot(d_mat_inv_sqrt).transpose().dot(d_mat_inv_sqrt).tocoo()\n",
    "    normalized_adj = normalized_adj.astype(np.float32)\n",
    "    return normalized_adj\n",
    "    \n",
    "def sparse_to_tuple(mx):\n",
    "    mx = mx.tocoo()\n",
    "    coords = np.vstack((mx.row, mx.col)).transpose()\n",
    "    L = tf.SparseTensor(coords, mx.data, mx.shape)\n",
    "    return tf.sparse_reorder(L) \n",
    "    \n",
    "def calculate_laplacian(adj, lambda_max=1):  \n",
    "    adj = normalized_adj(adj + sp.eye(adj.shape[0]))\n",
    "    adj = sp.csr_matrix(adj)\n",
    "    adj = adj.astype(np.float32)\n",
    "    return sparse_to_tuple(adj)\n",
    "    \n",
    "def weight_variable_glorot(input_dim, output_dim, name=\"\"):\n",
    "    init_range = np.sqrt(6.0 / (input_dim + output_dim))\n",
    "    initial = tf.random_uniform([input_dim, output_dim], minval=-init_range,\n",
    "                            maxval=init_range, dtype=tf.float32)\n",
    "\n",
    "    return tf.Variable(initial,name=name)  \n",
    "\n",
    "########## END utils.py\n"
   ]
  },
  {
   "cell_type": "code",
   "execution_count": null,
   "metadata": {
    "executionInfo": {
     "elapsed": 19,
     "status": "ok",
     "timestamp": 1635793756431,
     "user": {
      "displayName": "Morteza Jalambadani",
      "photoUrl": "https://lh3.googleusercontent.com/a-/AOh14Gik5LZldmyTOKvf1yNyb5Tcx_HN1qDg-JzdS2AF=s64",
      "userId": "18071915660234170019"
     },
     "user_tz": -210
    },
    "id": "BU-DOUHj4_JI"
   },
   "outputs": [],
   "source": [
    "\n",
    "########## tgcn.py\n",
    "\n",
    "\n",
    "\n",
    "class tgcnCell(RNNCell):\n",
    "    \"\"\"Temporal Graph Convolutional Network \"\"\"\n",
    "\n",
    "    def call(self, inputs, **kwargs):\n",
    "        pass\n",
    "\n",
    "    def __init__(self, num_units, adj, num_nodes, input_size=None,\n",
    "                 act=tf.nn.tanh, reuse=None):\n",
    "\n",
    "        super(tgcnCell, self).__init__(_reuse=reuse)\n",
    "        self._act = act\n",
    "        self._nodes = num_nodes\n",
    "        self._units = num_units\n",
    "        self._adj = []\n",
    "        self._adj.append(calculate_laplacian(adj))\n",
    "\n",
    "\n",
    "    @property\n",
    "    def state_size(self):\n",
    "        return self._nodes * self._units\n",
    "\n",
    "    @property\n",
    "    def output_size(self):\n",
    "        return self._units\n",
    "\n",
    "    def __call__(self, inputs, state, scope=None):\n",
    "\n",
    "        with tf.variable_scope(scope or \"tgcn\"):\n",
    "            with tf.variable_scope(\"gates\"):  \n",
    "                value = tf.nn.sigmoid(\n",
    "                    self._gc(inputs, state, 2 * self._units, bias=1.0, scope=scope))\n",
    "                r, u = tf.split(value=value, num_or_size_splits=2, axis=1)\n",
    "            with tf.variable_scope(\"candidate\"):\n",
    "                r_state = r * state\n",
    "                c = self._act(self._gc(inputs, r_state, self._units, scope=scope))\n",
    "            new_h = u * state + (1 - u) * c\n",
    "        return new_h, new_h\n",
    "\n",
    "\n",
    "    def _gc(self, inputs, state, output_size, bias=0.0, scope=None):\n",
    "        ## inputs:(-1,num_nodes)\n",
    "        inputs = tf.expand_dims(inputs, 2)\n",
    "        ## state:(batch,num_node,gru_units)\n",
    "        state = tf.reshape(state, (-1, self._nodes, self._units))\n",
    "        ## concat\n",
    "        x_s = tf.concat([inputs, state], axis=2)\n",
    "        input_size = x_s.get_shape()[2].value\n",
    "        ## (num_node,input_size,-1)\n",
    "        x0 = tf.transpose(x_s, perm=[1, 2, 0])  \n",
    "        x0 = tf.reshape(x0, shape=[self._nodes, -1])\n",
    "        \n",
    "        scope = tf.get_variable_scope()\n",
    "        with tf.variable_scope(scope):\n",
    "            for m in self._adj:\n",
    "                x1 = tf.sparse_tensor_dense_matmul(m, x0)\n",
    "#                print(x1)\n",
    "            x = tf.reshape(x1, shape=[self._nodes, input_size,-1])\n",
    "            x = tf.transpose(x,perm=[2,0,1])\n",
    "            x = tf.reshape(x, shape=[-1, input_size])\n",
    "            weights = tf.get_variable(\n",
    "                'weights', [input_size, output_size], initializer=tf.contrib.layers.xavier_initializer())\n",
    "            x = tf.matmul(x, weights)  # (batch_size * self._nodes, output_size)\n",
    "            biases = tf.get_variable(\n",
    "                \"biases\", [output_size], initializer=tf.constant_initializer(bias, dtype=tf.float32))\n",
    "            x = tf.nn.bias_add(x, biases)\n",
    "            x = tf.reshape(x, shape=[-1, self._nodes, output_size])\n",
    "            x = tf.reshape(x, shape=[-1, self._nodes * output_size])\n",
    "        return x\n",
    "\n",
    "########## END tgcn.py\n"
   ]
  },
  {
   "cell_type": "code",
   "execution_count": null,
   "metadata": {
    "executionInfo": {
     "elapsed": 18,
     "status": "ok",
     "timestamp": 1635793756432,
     "user": {
      "displayName": "Morteza Jalambadani",
      "photoUrl": "https://lh3.googleusercontent.com/a-/AOh14Gik5LZldmyTOKvf1yNyb5Tcx_HN1qDg-JzdS2AF=s64",
      "userId": "18071915660234170019"
     },
     "user_tz": -210
    },
    "id": "mxRsJln_4_Lh"
   },
   "outputs": [],
   "source": [
    "\n",
    "########## input_data.py\n",
    "\n",
    "\n",
    "def load_sz_data(dataset):\n",
    "    sz_adj = pd.read_csv(r'/content/drive/My Drive/hsu/payanname/tgcn/edit/data/sz_adj.csv',header=None)\n",
    "    adj = np.mat(sz_adj)\n",
    "    sz_tf = pd.read_csv(r'/content/drive/My Drive/hsu/payanname/tgcn/edit/data/sz_speed.csv')\n",
    "    return sz_tf, adj\n",
    "\n",
    "def load_los_data(dataset):\n",
    "    los_adj = pd.read_csv(r'/content/drive/My Drive/hsu/payanname/tgcn/edit/data/los_adj.csv',header=None)\n",
    "    adj = np.mat(los_adj)\n",
    "    los_tf = pd.read_csv(r'/content/drive/My Drive/hsu/payanname/tgcn/edit/data/los_speed.csv')\n",
    "    return los_tf, adj\n",
    "\n",
    "\n",
    "def preprocess_data(data, time_len, rate, seq_len, pre_len):\n",
    "    train_size = int(time_len * rate)\n",
    "    train_data = data[0:train_size]\n",
    "    test_data = data[train_size:time_len]\n",
    "    \n",
    "    trainX, trainY, testX, testY = [], [], [], []\n",
    "    for i in range(len(train_data) - seq_len - pre_len):\n",
    "        a = train_data[i: i + seq_len + pre_len]\n",
    "        trainX.append(a[0 : seq_len])\n",
    "        trainY.append(a[seq_len : seq_len + pre_len])\n",
    "    for i in range(len(test_data) - seq_len -pre_len):\n",
    "        b = test_data[i: i + seq_len + pre_len]\n",
    "        testX.append(b[0 : seq_len])\n",
    "        testY.append(b[seq_len : seq_len + pre_len])\n",
    "      \n",
    "    trainX1 = np.array(trainX)\n",
    "    trainY1 = np.array(trainY)\n",
    "    testX1 = np.array(testX)\n",
    "    testY1 = np.array(testY)\n",
    "    return trainX1, trainY1, testX1, testY1\n",
    "    \n",
    "########## END input_data.py\n"
   ]
  },
  {
   "cell_type": "code",
   "execution_count": null,
   "metadata": {
    "executionInfo": {
     "elapsed": 18,
     "status": "ok",
     "timestamp": 1635793756433,
     "user": {
      "displayName": "Morteza Jalambadani",
      "photoUrl": "https://lh3.googleusercontent.com/a-/AOh14Gik5LZldmyTOKvf1yNyb5Tcx_HN1qDg-JzdS2AF=s64",
      "userId": "18071915660234170019"
     },
     "user_tz": -210
    },
    "id": "cJf41yzUAKCl"
   },
   "outputs": [],
   "source": [
    "def TGCN(_X, _weights, _biases):\n",
    "    ###\n",
    "    cell_1 = tgcnCell(gru_units, adj, num_nodes=num_nodes)\n",
    "    cell = tf.nn.rnn_cell.MultiRNNCell([cell_1], state_is_tuple=True)\n",
    "    _X = tf.unstack(_X, axis=1)\n",
    "    outputs, states = tf.nn.static_rnn(cell, _X, dtype=tf.float32)\n",
    "    m = []\n",
    "    for i in outputs:\n",
    "        o = tf.reshape(i,shape=[-1,num_nodes,gru_units])\n",
    "        o = tf.reshape(o,shape=[-1,gru_units])\n",
    "        m.append(o)\n",
    "    last_output = m[-1]\n",
    "    output = tf.matmul(last_output, _weights['out']) + _biases['out']\n",
    "    output = tf.reshape(output,shape=[-1,num_nodes,pre_len])\n",
    "    output = tf.transpose(output, perm=[0,2,1])\n",
    "    output = tf.reshape(output, shape=[-1,num_nodes])\n",
    "    return output, m, states"
   ]
  },
  {
   "cell_type": "code",
   "execution_count": null,
   "metadata": {
    "executionInfo": {
     "elapsed": 19,
     "status": "ok",
     "timestamp": 1635793756435,
     "user": {
      "displayName": "Morteza Jalambadani",
      "photoUrl": "https://lh3.googleusercontent.com/a-/AOh14Gik5LZldmyTOKvf1yNyb5Tcx_HN1qDg-JzdS2AF=s64",
      "userId": "18071915660234170019"
     },
     "user_tz": -210
    },
    "id": "s3xfnHwNAP55"
   },
   "outputs": [],
   "source": []
  },
  {
   "cell_type": "code",
   "execution_count": null,
   "metadata": {
    "executionInfo": {
     "elapsed": 2221,
     "status": "ok",
     "timestamp": 1635793758638,
     "user": {
      "displayName": "Morteza Jalambadani",
      "photoUrl": "https://lh3.googleusercontent.com/a-/AOh14Gik5LZldmyTOKvf1yNyb5Tcx_HN1qDg-JzdS2AF=s64",
      "userId": "18071915660234170019"
     },
     "user_tz": -210
    },
    "id": "L7i0LfTS4_Qy"
   },
   "outputs": [],
   "source": [
    "\n",
    "time_start = time.time()\n",
    "###### Settings ######\n",
    "flags = tf.app.flags\n",
    "FLAGS = flags.FLAGS\n",
    "##flags.DEFINE_float('learning_rate', 0.001, 'Initial learning rate.')\n",
    "##flags.DEFINE_integer('training_epoch', 1, 'Number of epochs to train.')\n",
    "##flags.DEFINE_integer('gru_units', 64, 'hidden units of gru.')\n",
    "##flags.DEFINE_integer('seq_len',12 , '  time length of inputs.')\n",
    "##flags.DEFINE_integer('pre_len', 3, 'time length of prediction.')\n",
    "##flags.DEFINE_float('train_rate', 0.8, 'rate of training set.')\n",
    "##flags.DEFINE_integer('batch_size', 32, 'batch size.')\n",
    "##flags.DEFINE_string('dataset', 'los', 'sz or los.')\n",
    "##flags.DEFINE_string('model_name', 'tgcn', 'tgcn')\n",
    "\n",
    "#model_name = FLAGS.model_name\n",
    "model_name = 'tgcn'\n",
    "#data_name = FLAGS.dataset\n",
    "data_name = 'los'\n",
    "#train_rate =  FLAGS.train_rate\n",
    "train_rate =  0.8\n",
    "#seq_len = FLAGS.seq_len\n",
    "seq_len = 12\n",
    "#output_dim = pre_len = FLAGS.pre_len\n",
    "output_dim = pre_len = 4\n",
    "#batch_size = FLAGS.batch_size\n",
    "batch_size = 16\n",
    "#lr = FLAGS.learning_rate\n",
    "lr = 0.001\n",
    "#training_epoch = FLAGS.training_epoch\n",
    "training_epoch = 300\n",
    "#gru_units = FLAGS.gru_units\n",
    "gru_units = 64\n",
    "\n",
    "###### load data ######\n",
    "if data_name == 'sz':\n",
    "    data, adj = load_sz_data('sz')\n",
    "if data_name == 'los':\n",
    "    data, adj = load_los_data('los')\n",
    "\n",
    "time_len = data.shape[0]\n",
    "num_nodes = data.shape[1]\n",
    "data1 =np.mat(data,dtype=np.float32)\n",
    "\n",
    "#### normalization\n",
    "max_value = np.max(data1)\n",
    "data1  = data1/max_value\n",
    "trainX, trainY, testX, testY = preprocess_data(data1, time_len, train_rate, seq_len, pre_len)\n",
    "\n",
    "totalbatch = int(trainX.shape[0]/batch_size)\n",
    "training_data_count = len(trainX)\n"
   ]
  },
  {
   "cell_type": "code",
   "execution_count": null,
   "metadata": {
    "colab": {
     "base_uri": "https://localhost:8080/"
    },
    "executionInfo": {
     "elapsed": 33,
     "status": "ok",
     "timestamp": 1635793758640,
     "user": {
      "displayName": "Morteza Jalambadani",
      "photoUrl": "https://lh3.googleusercontent.com/a-/AOh14Gik5LZldmyTOKvf1yNyb5Tcx_HN1qDg-JzdS2AF=s64",
      "userId": "18071915660234170019"
     },
     "user_tz": -210
    },
    "id": "cSc1fpTjQSLf",
    "outputId": "e504ce0b-60a5-4f3b-d4bf-6b2d4a3af88a"
   },
   "outputs": [],
   "source": [
    "print(\" trainX: \", trainX.shape, \n",
    "      \" trainY: \", trainY.shape, \n",
    "      \" testX: \", testX.shape, \n",
    "      \" testY: \", testY.shape, )"
   ]
  },
  {
   "cell_type": "code",
   "execution_count": null,
   "metadata": {
    "colab": {
     "base_uri": "https://localhost:8080/"
    },
    "executionInfo": {
     "elapsed": 22,
     "status": "ok",
     "timestamp": 1635793758641,
     "user": {
      "displayName": "Morteza Jalambadani",
      "photoUrl": "https://lh3.googleusercontent.com/a-/AOh14Gik5LZldmyTOKvf1yNyb5Tcx_HN1qDg-JzdS2AF=s64",
      "userId": "18071915660234170019"
     },
     "user_tz": -210
    },
    "id": "jw26l1ZfQpKy",
    "outputId": "6b38d9e5-8a2d-4205-de17-68a002683ed9"
   },
   "outputs": [],
   "source": [
    "print(\"data: \" , data1.shape)"
   ]
  },
  {
   "cell_type": "code",
   "execution_count": null,
   "metadata": {
    "colab": {
     "base_uri": "https://localhost:8080/"
    },
    "executionInfo": {
     "elapsed": 585,
     "status": "ok",
     "timestamp": 1635793759211,
     "user": {
      "displayName": "Morteza Jalambadani",
      "photoUrl": "https://lh3.googleusercontent.com/a-/AOh14Gik5LZldmyTOKvf1yNyb5Tcx_HN1qDg-JzdS2AF=s64",
      "userId": "18071915660234170019"
     },
     "user_tz": -210
    },
    "id": "xZcFMoQfAIMY",
    "outputId": "d8c885ce-9dda-4f26-a8d5-994607ffdbe8"
   },
   "outputs": [],
   "source": [
    "        \n",
    "###### placeholders ######\n",
    "inputs = tf.placeholder(tf.float32, shape=[None, seq_len, num_nodes])\n",
    "labels = tf.placeholder(tf.float32, shape=[None, pre_len, num_nodes])\n",
    "\n",
    "# Graph weights\n",
    "weights = {\n",
    "    'out': tf.Variable(tf.random_normal([gru_units, pre_len], mean=1.0), name='weight_o')}\n",
    "biases = {\n",
    "    'out': tf.Variable(tf.random_normal([pre_len]),name='bias_o')}\n",
    "\n",
    "if model_name == 'tgcn':\n",
    "    pred,ttts,ttto = TGCN(inputs, weights, biases)\n",
    "y_pred = pred"
   ]
  },
  {
   "cell_type": "code",
   "execution_count": null,
   "metadata": {
    "executionInfo": {
     "elapsed": 2596,
     "status": "ok",
     "timestamp": 1635793761802,
     "user": {
      "displayName": "Morteza Jalambadani",
      "photoUrl": "https://lh3.googleusercontent.com/a-/AOh14Gik5LZldmyTOKvf1yNyb5Tcx_HN1qDg-JzdS2AF=s64",
      "userId": "18071915660234170019"
     },
     "user_tz": -210
    },
    "id": "xnH-zcP1AXYR"
   },
   "outputs": [],
   "source": [
    "\n",
    "###### optimizer ######\n",
    "lambda_loss = 0.0015\n",
    "Lreg = lambda_loss * sum(tf.nn.l2_loss(tf_var) for tf_var in tf.trainable_variables())\n",
    "label = tf.reshape(labels, [-1,num_nodes])\n",
    "##loss\n",
    "loss = tf.reduce_mean(tf.nn.l2_loss(y_pred-label) + Lreg)\n",
    "##rmse\n",
    "error = tf.sqrt(tf.reduce_mean(tf.square(y_pred-label)))\n",
    "optimizer = tf.train.AdamOptimizer(lr).minimize(loss)\n"
   ]
  },
  {
   "cell_type": "code",
   "execution_count": null,
   "metadata": {
    "executionInfo": {
     "elapsed": 14,
     "status": "ok",
     "timestamp": 1635793761803,
     "user": {
      "displayName": "Morteza Jalambadani",
      "photoUrl": "https://lh3.googleusercontent.com/a-/AOh14Gik5LZldmyTOKvf1yNyb5Tcx_HN1qDg-JzdS2AF=s64",
      "userId": "18071915660234170019"
     },
     "user_tz": -210
    },
    "id": "ip4F14F_AZm8"
   },
   "outputs": [],
   "source": [
    "\n",
    "###### Initialize session ######\n",
    "variables = tf.global_variables()\n",
    "saver = tf.train.Saver(tf.global_variables())  \n",
    "#sess = tf.Session()\n",
    "gpu_options = tf.GPUOptions(per_process_gpu_memory_fraction=0.333)\n",
    "sess = tf.Session(config=tf.ConfigProto(gpu_options=gpu_options))\n",
    "sess.run(tf.global_variables_initializer())\n"
   ]
  },
  {
   "cell_type": "code",
   "execution_count": null,
   "metadata": {
    "executionInfo": {
     "elapsed": 1564,
     "status": "ok",
     "timestamp": 1635793763357,
     "user": {
      "displayName": "Morteza Jalambadani",
      "photoUrl": "https://lh3.googleusercontent.com/a-/AOh14Gik5LZldmyTOKvf1yNyb5Tcx_HN1qDg-JzdS2AF=s64",
      "userId": "18071915660234170019"
     },
     "user_tz": -210
    },
    "id": "VK6d2OOlAafE"
   },
   "outputs": [],
   "source": [
    "out = '/content/drive/My Drive/hsu/payanname/tgcn/edit/out/%s'%(model_name)\n",
    "#out = 'out/%s_%s'%(model_name,'perturbation')\n",
    "path1 = '%s_%s_lr%r_batch%r_unit%r_seq%r_pre%r_epoch%r'%(model_name,data_name,lr,batch_size,gru_units,seq_len,pre_len,training_epoch)\n",
    "path = os.path.join(out,path1)\n",
    "if not os.path.exists(path):\n",
    "    os.makedirs(path)"
   ]
  },
  {
   "cell_type": "code",
   "execution_count": null,
   "metadata": {
    "executionInfo": {
     "elapsed": 23,
     "status": "ok",
     "timestamp": 1635793763361,
     "user": {
      "displayName": "Morteza Jalambadani",
      "photoUrl": "https://lh3.googleusercontent.com/a-/AOh14Gik5LZldmyTOKvf1yNyb5Tcx_HN1qDg-JzdS2AF=s64",
      "userId": "18071915660234170019"
     },
     "user_tz": -210
    },
    "id": "scmh1v73AdFY"
   },
   "outputs": [],
   "source": [
    "    \n",
    "###### evaluation ######\n",
    "def evaluation(a,b):\n",
    "  rmse = math.sqrt(mean_squared_error(a,b))\n",
    "  mae = mean_absolute_error(a, b)\n",
    "  F_norm = la.norm(a-b,'fro')/la.norm(a,'fro')\n",
    "  r2 = 1-((a-b)**2).sum()/((a-a.mean())**2).sum()\n",
    "  var = 1-(np.var(a-b))/np.var(a)\n",
    "  return rmse, mae, 1-F_norm, r2, var"
   ]
  },
  {
   "cell_type": "code",
   "execution_count": null,
   "metadata": {
    "executionInfo": {
     "elapsed": 19,
     "status": "ok",
     "timestamp": 1635793763362,
     "user": {
      "displayName": "Morteza Jalambadani",
      "photoUrl": "https://lh3.googleusercontent.com/a-/AOh14Gik5LZldmyTOKvf1yNyb5Tcx_HN1qDg-JzdS2AF=s64",
      "userId": "18071915660234170019"
     },
     "user_tz": -210
    },
    "id": "G9zRJdbTAhcD"
   },
   "outputs": [],
   "source": [
    "   \n",
    "x_axe,batch_loss,batch_rmse,batch_pred = [], [], [], []\n",
    "test_loss,test_rmse,test_mae,test_acc,test_r2,test_var,test_pred = [],[],[],[],[],[],[]\n",
    "  "
   ]
  },
  {
   "cell_type": "code",
   "execution_count": null,
   "metadata": {
    "colab": {
     "base_uri": "https://localhost:8080/"
    },
    "executionInfo": {
     "elapsed": 4903224,
     "status": "ok",
     "timestamp": 1635806758556,
     "user": {
      "displayName": "Morteza Jalambadani",
      "photoUrl": "https://lh3.googleusercontent.com/a-/AOh14Gik5LZldmyTOKvf1yNyb5Tcx_HN1qDg-JzdS2AF=s64",
      "userId": "18071915660234170019"
     },
     "user_tz": -210
    },
    "id": "R9-ChUmMAkIJ",
    "outputId": "334a6202-6c26-41bf-fe39-7e505942e304"
   },
   "outputs": [],
   "source": [
    "for epoch in range(training_epoch):\n",
    "  for m in range(totalbatch):\n",
    "    mini_batch = trainX[m * batch_size : (m+1) * batch_size]\n",
    "    mini_label = trainY[m * batch_size : (m+1) * batch_size]\n",
    "    _, loss1, rmse1, train_output = sess.run([optimizer, loss, error, y_pred],\n",
    "                         feed_dict = {inputs:mini_batch, labels:mini_label})\n",
    "    batch_loss.append(loss1)\n",
    "    batch_rmse.append(rmse1 * max_value)\n",
    "\n",
    "   # Test completely at every epoch\n",
    "  loss2, rmse2, test_output = sess.run([loss, error, y_pred],\n",
    "                     feed_dict = {inputs:testX, labels:testY})\n",
    "  test_label = np.reshape(testY,[-1,num_nodes])\n",
    "  rmse, mae, acc, r2_score, var_score = evaluation(test_label, test_output)\n",
    "  test_label1 = test_label * max_value\n",
    "  test_output1 = test_output * max_value\n",
    "  test_loss.append(loss2)\n",
    "  test_rmse.append(rmse * max_value)\n",
    "  test_mae.append(mae * max_value)\n",
    "  test_acc.append(acc)\n",
    "  test_r2.append(r2_score)\n",
    "  test_var.append(var_score)\n",
    "  test_pred.append(test_output1)\n",
    "  \n",
    "  print('Iter:{}'.format(epoch),\n",
    "      'train_rmse:{:.4}'.format(batch_rmse[-1]),\n",
    "      'test_loss:{:.4}'.format(loss2),\n",
    "      'test_rmse:{:.4}'.format(rmse),\n",
    "      'test_acc:{:.4}'.format(acc))\n",
    "  \n",
    "  if (epoch % 500 == 0):    \n",
    "    saver.save(sess, path+'/model_100/TGCN_pre_%r'%epoch, global_step = epoch)\n",
    "    \n",
    "        "
   ]
  },
  {
   "cell_type": "code",
   "execution_count": null,
   "metadata": {
    "colab": {
     "base_uri": "https://localhost:8080/"
    },
    "executionInfo": {
     "elapsed": 10,
     "status": "ok",
     "timestamp": 1635806758560,
     "user": {
      "displayName": "Morteza Jalambadani",
      "photoUrl": "https://lh3.googleusercontent.com/a-/AOh14Gik5LZldmyTOKvf1yNyb5Tcx_HN1qDg-JzdS2AF=s64",
      "userId": "18071915660234170019"
     },
     "user_tz": -210
    },
    "id": "dGig-0n2Angi",
    "outputId": "60a22922-7ebb-4a4d-8029-1e4173bc075f"
   },
   "outputs": [],
   "source": [
    "time_end = time.time()\n",
    "print(time_end-time_start,'s')\n"
   ]
  },
  {
   "cell_type": "code",
   "execution_count": null,
   "metadata": {
    "executionInfo": {
     "elapsed": 337,
     "status": "ok",
     "timestamp": 1635806758891,
     "user": {
      "displayName": "Morteza Jalambadani",
      "photoUrl": "https://lh3.googleusercontent.com/a-/AOh14Gik5LZldmyTOKvf1yNyb5Tcx_HN1qDg-JzdS2AF=s64",
      "userId": "18071915660234170019"
     },
     "user_tz": -210
    },
    "id": "FeAfQGcgAsmG"
   },
   "outputs": [],
   "source": [
    "\n",
    "index = test_rmse.index(np.min(test_rmse))\n",
    "test_result = test_pred[index]\n",
    "var = pd.DataFrame(test_result)\n",
    "var.to_csv(path+'/test_result.csv',index = False,header = False)"
   ]
  },
  {
   "cell_type": "code",
   "execution_count": null,
   "metadata": {
    "colab": {
     "base_uri": "https://localhost:8080/",
     "height": 241
    },
    "executionInfo": {
     "elapsed": 848,
     "status": "ok",
     "timestamp": 1635806759737,
     "user": {
      "displayName": "Morteza Jalambadani",
      "photoUrl": "https://lh3.googleusercontent.com/a-/AOh14Gik5LZldmyTOKvf1yNyb5Tcx_HN1qDg-JzdS2AF=s64",
      "userId": "18071915660234170019"
     },
     "user_tz": -210
    },
    "id": "LlNnbqGrAtRl",
    "outputId": "40c33714-bd2b-4e7f-dfe2-052433e5d0d0"
   },
   "outputs": [],
   "source": [
    "plot_result(test_result,test_label1,path)"
   ]
  },
  {
   "cell_type": "code",
   "execution_count": null,
   "metadata": {
    "executionInfo": {
     "elapsed": 4,
     "status": "ok",
     "timestamp": 1635806759739,
     "user": {
      "displayName": "Morteza Jalambadani",
      "photoUrl": "https://lh3.googleusercontent.com/a-/AOh14Gik5LZldmyTOKvf1yNyb5Tcx_HN1qDg-JzdS2AF=s64",
      "userId": "18071915660234170019"
     },
     "user_tz": -210
    },
    "id": "hxkHzFcgApYt"
   },
   "outputs": [],
   "source": [
    "\n",
    "############## visualization ###############\n",
    "b = int(len(batch_rmse)/totalbatch)\n",
    "batch_rmse1 = [i for i in batch_rmse]\n",
    "train_rmse = [(sum(batch_rmse1[i*totalbatch:(i+1)*totalbatch])/totalbatch) for i in range(b)]\n",
    "batch_loss1 = [i for i in batch_loss]\n",
    "train_loss = [(sum(batch_loss1[i*totalbatch:(i+1)*totalbatch])/totalbatch) for i in range(b)]\n"
   ]
  },
  {
   "cell_type": "code",
   "execution_count": null,
   "metadata": {
    "colab": {
     "base_uri": "https://localhost:8080/",
     "height": 1000
    },
    "executionInfo": {
     "elapsed": 1514,
     "status": "ok",
     "timestamp": 1635806761250,
     "user": {
      "displayName": "Morteza Jalambadani",
      "photoUrl": "https://lh3.googleusercontent.com/a-/AOh14Gik5LZldmyTOKvf1yNyb5Tcx_HN1qDg-JzdS2AF=s64",
      "userId": "18071915660234170019"
     },
     "user_tz": -210
    },
    "id": "YXKtgffwAuxq",
    "outputId": "028dc0e7-1e1f-4743-dc4c-84ad6471c40f"
   },
   "outputs": [],
   "source": [
    "plot_error(train_rmse,train_loss,test_rmse,test_acc,test_mae,path)"
   ]
  },
  {
   "cell_type": "code",
   "execution_count": null,
   "metadata": {
    "colab": {
     "base_uri": "https://localhost:8080/"
    },
    "executionInfo": {
     "elapsed": 8,
     "status": "ok",
     "timestamp": 1635806761255,
     "user": {
      "displayName": "Morteza Jalambadani",
      "photoUrl": "https://lh3.googleusercontent.com/a-/AOh14Gik5LZldmyTOKvf1yNyb5Tcx_HN1qDg-JzdS2AF=s64",
      "userId": "18071915660234170019"
     },
     "user_tz": -210
    },
    "id": "a1-P8Uy4Axh2",
    "outputId": "bc430957-cece-443a-dfc6-5d0150b5011e"
   },
   "outputs": [],
   "source": [
    "\n",
    "print('min_rmse:%r'%(np.min(test_rmse)),\n",
    "      'min_mae:%r'%(test_mae[index]),\n",
    "      'max_acc:%r'%(test_acc[index]),\n",
    "      'r2:%r'%(test_r2[index]),\n",
    "      'var:%r'%test_var[index])"
   ]
  }
 ],
 "metadata": {
  "celltoolbar": "Raw Cell Format",
  "colab": {
   "authorship_tag": "ABX9TyM/HQnyvWXDcnMZie1hNUnI",
   "name": "tgcn_tensorflow.ipynb",
   "provenance": []
  },
  "kernelspec": {
   "display_name": "Python 3",
   "language": "python",
   "name": "python3"
  },
  "language_info": {
   "codemirror_mode": {
    "name": "ipython",
    "version": 3
   },
   "file_extension": ".py",
   "mimetype": "text/x-python",
   "name": "python",
   "nbconvert_exporter": "python",
   "pygments_lexer": "ipython3",
   "version": "3.8.10"
  }
 },
 "nbformat": 4,
 "nbformat_minor": 1
}
